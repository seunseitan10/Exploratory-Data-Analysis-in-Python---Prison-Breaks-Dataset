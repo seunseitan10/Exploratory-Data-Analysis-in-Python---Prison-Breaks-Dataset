{
 "cells": [
  {
   "cell_type": "markdown",
   "metadata": {},
   "source": [
    "# Prison Break Project - Helicopter Escapes"
   ]
  },
  {
   "cell_type": "markdown",
   "metadata": {},
   "source": [
    "On multiple occassions, prisoners have tried to break out of prison with the aid of helicopters.\n",
    "The aim of this project is to answer the following questions:\n",
    "- In which year did the most attempts at breaking out of prison with a helicopter occur?\n",
    "- In which countries did the most attempted helicopter prison escapes occur?\n",
    "    \n",
    "To answer these questions, I will be analyzing data scraped from [this](https://en.wikipedia.org/wiki/List_of_helicopter_prison_escapes) Wikipedia page. It covers the details of attempted helicopter prison escapes over a 50-year period (1971-2020)"
   ]
  },
  {
   "cell_type": "markdown",
   "metadata": {},
   "source": [
    "### 1. Importing the necessary modules"
   ]
  },
  {
   "cell_type": "code",
   "execution_count": 2,
   "metadata": {},
   "outputs": [],
   "source": [
    "import pandas as pd\n",
    "import re\n",
    "import matplotlib.pyplot as plt\n",
    "from IPython.display import display, HTML\n",
    "import seaborn as sns"
   ]
  },
  {
   "cell_type": "markdown",
   "metadata": {},
   "source": [
    "### 2. Loading the data  \n",
    "The dataset is going to be in the form of a Pandas DataFrame."
   ]
  },
  {
   "cell_type": "code",
   "execution_count": 3,
   "metadata": {},
   "outputs": [],
   "source": [
    "url = 'https://en.wikipedia.org/wiki/List_of_helicopter_prison_escapes'\n",
    "data = pd.read_html(url)[1]"
   ]
  },
  {
   "cell_type": "markdown",
   "metadata": {},
   "source": [
    "### 3. Exploring the dataset. \n",
    "The dataset contains six data fields: \n",
    "- The date of the attempted prison break \n",
    "- The name of the prison\n",
    "- The country where it happened\n",
    "- Whether the attempt was successful or not\n",
    "- The names of the escapees\n",
    "- More details"
   ]
  },
  {
   "cell_type": "code",
   "execution_count": 4,
   "metadata": {},
   "outputs": [
    {
     "data": {
      "text/plain": [
       "48"
      ]
     },
     "execution_count": 4,
     "metadata": {},
     "output_type": "execute_result"
    }
   ],
   "source": [
    "len(data)"
   ]
  },
  {
   "cell_type": "code",
   "execution_count": 5,
   "metadata": {},
   "outputs": [
    {
     "data": {
      "text/html": [
       "<div>\n",
       "<style scoped>\n",
       "    .dataframe tbody tr th:only-of-type {\n",
       "        vertical-align: middle;\n",
       "    }\n",
       "\n",
       "    .dataframe tbody tr th {\n",
       "        vertical-align: top;\n",
       "    }\n",
       "\n",
       "    .dataframe thead th {\n",
       "        text-align: right;\n",
       "    }\n",
       "</style>\n",
       "<table border=\"1\" class=\"dataframe\">\n",
       "  <thead>\n",
       "    <tr style=\"text-align: right;\">\n",
       "      <th></th>\n",
       "      <th>Date</th>\n",
       "      <th>Prison name</th>\n",
       "      <th>Country</th>\n",
       "      <th>Succeeded</th>\n",
       "      <th>Escapee(s)</th>\n",
       "      <th>Details</th>\n",
       "    </tr>\n",
       "  </thead>\n",
       "  <tbody>\n",
       "    <tr>\n",
       "      <th>0</th>\n",
       "      <td>August 19, 1971</td>\n",
       "      <td>Santa Martha Acatitla</td>\n",
       "      <td>Mexico</td>\n",
       "      <td>Yes</td>\n",
       "      <td>Joel David Kaplan Carlos Antonio Contreras Castro</td>\n",
       "      <td>Joel David Kaplan was a New York businessman w...</td>\n",
       "    </tr>\n",
       "    <tr>\n",
       "      <th>1</th>\n",
       "      <td>October 31, 1973</td>\n",
       "      <td>Mountjoy Jail</td>\n",
       "      <td>Ireland</td>\n",
       "      <td>Yes</td>\n",
       "      <td>JB O'Hagan Seamus TwomeyKevin Mallon</td>\n",
       "      <td>On October 31, 1973 an IRA member hijacked a h...</td>\n",
       "    </tr>\n",
       "  </tbody>\n",
       "</table>\n",
       "</div>"
      ],
      "text/plain": [
       "               Date            Prison name  Country Succeeded  \\\n",
       "0   August 19, 1971  Santa Martha Acatitla   Mexico       Yes   \n",
       "1  October 31, 1973          Mountjoy Jail  Ireland       Yes   \n",
       "\n",
       "                                          Escapee(s)  \\\n",
       "0  Joel David Kaplan Carlos Antonio Contreras Castro   \n",
       "1               JB O'Hagan Seamus TwomeyKevin Mallon   \n",
       "\n",
       "                                             Details  \n",
       "0  Joel David Kaplan was a New York businessman w...  \n",
       "1  On October 31, 1973 an IRA member hijacked a h...  "
      ]
     },
     "execution_count": 5,
     "metadata": {},
     "output_type": "execute_result"
    }
   ],
   "source": [
    "data.head(2)"
   ]
  },
  {
   "cell_type": "code",
   "execution_count": 6,
   "metadata": {},
   "outputs": [
    {
     "data": {
      "text/html": [
       "<div>\n",
       "<style scoped>\n",
       "    .dataframe tbody tr th:only-of-type {\n",
       "        vertical-align: middle;\n",
       "    }\n",
       "\n",
       "    .dataframe tbody tr th {\n",
       "        vertical-align: top;\n",
       "    }\n",
       "\n",
       "    .dataframe thead th {\n",
       "        text-align: right;\n",
       "    }\n",
       "</style>\n",
       "<table border=\"1\" class=\"dataframe\">\n",
       "  <thead>\n",
       "    <tr style=\"text-align: right;\">\n",
       "      <th></th>\n",
       "      <th>Date</th>\n",
       "      <th>Prison name</th>\n",
       "      <th>Country</th>\n",
       "      <th>Succeeded</th>\n",
       "      <th>Escapee(s)</th>\n",
       "      <th>Details</th>\n",
       "    </tr>\n",
       "  </thead>\n",
       "  <tbody>\n",
       "    <tr>\n",
       "      <th>46</th>\n",
       "      <td>July 1, 2018</td>\n",
       "      <td>Réau, near Paris</td>\n",
       "      <td>France</td>\n",
       "      <td>Yes</td>\n",
       "      <td>Rédoine Faïd</td>\n",
       "      <td>Faïd was helped by several heavily armed men w...</td>\n",
       "    </tr>\n",
       "    <tr>\n",
       "      <th>47</th>\n",
       "      <td>September 25, 2020</td>\n",
       "      <td>Forest prison, Brussels</td>\n",
       "      <td>Belgium</td>\n",
       "      <td>No</td>\n",
       "      <td>Kristel A.</td>\n",
       "      <td>Three armed men hijacked a Eurocopter AS355 he...</td>\n",
       "    </tr>\n",
       "  </tbody>\n",
       "</table>\n",
       "</div>"
      ],
      "text/plain": [
       "                  Date              Prison name  Country Succeeded  \\\n",
       "46        July 1, 2018         Réau, near Paris   France       Yes   \n",
       "47  September 25, 2020  Forest prison, Brussels  Belgium        No   \n",
       "\n",
       "      Escapee(s)                                            Details  \n",
       "46  Rédoine Faïd  Faïd was helped by several heavily armed men w...  \n",
       "47    Kristel A.  Three armed men hijacked a Eurocopter AS355 he...  "
      ]
     },
     "execution_count": 6,
     "metadata": {},
     "output_type": "execute_result"
    }
   ],
   "source": [
    "data.tail(2)"
   ]
  },
  {
   "cell_type": "markdown",
   "metadata": {},
   "source": [
    "### 4. Data Cleaning \n",
    "Removing the last two columns, so that the data is more readable, and replacing the date with just the year, since that is all the analysis needs."
   ]
  },
  {
   "cell_type": "code",
   "execution_count": 7,
   "metadata": {},
   "outputs": [
    {
     "data": {
      "text/html": [
       "<div>\n",
       "<style scoped>\n",
       "    .dataframe tbody tr th:only-of-type {\n",
       "        vertical-align: middle;\n",
       "    }\n",
       "\n",
       "    .dataframe tbody tr th {\n",
       "        vertical-align: top;\n",
       "    }\n",
       "\n",
       "    .dataframe thead th {\n",
       "        text-align: right;\n",
       "    }\n",
       "</style>\n",
       "<table border=\"1\" class=\"dataframe\">\n",
       "  <thead>\n",
       "    <tr style=\"text-align: right;\">\n",
       "      <th></th>\n",
       "      <th>Date</th>\n",
       "      <th>Prison name</th>\n",
       "      <th>Country</th>\n",
       "      <th>Succeeded</th>\n",
       "    </tr>\n",
       "  </thead>\n",
       "  <tbody>\n",
       "    <tr>\n",
       "      <th>0</th>\n",
       "      <td>August 19, 1971</td>\n",
       "      <td>Santa Martha Acatitla</td>\n",
       "      <td>Mexico</td>\n",
       "      <td>Yes</td>\n",
       "    </tr>\n",
       "    <tr>\n",
       "      <th>1</th>\n",
       "      <td>October 31, 1973</td>\n",
       "      <td>Mountjoy Jail</td>\n",
       "      <td>Ireland</td>\n",
       "      <td>Yes</td>\n",
       "    </tr>\n",
       "  </tbody>\n",
       "</table>\n",
       "</div>"
      ],
      "text/plain": [
       "               Date            Prison name  Country Succeeded\n",
       "0   August 19, 1971  Santa Martha Acatitla   Mexico       Yes\n",
       "1  October 31, 1973          Mountjoy Jail  Ireland       Yes"
      ]
     },
     "execution_count": 7,
     "metadata": {},
     "output_type": "execute_result"
    }
   ],
   "source": [
    "new_data = data.drop([\"Details\", \"Escapee(s)\"], axis = 1)\n",
    "new_data[:2]"
   ]
  },
  {
   "cell_type": "code",
   "execution_count": 8,
   "metadata": {
    "scrolled": true
   },
   "outputs": [
    {
     "data": {
      "text/html": [
       "<div>\n",
       "<style scoped>\n",
       "    .dataframe tbody tr th:only-of-type {\n",
       "        vertical-align: middle;\n",
       "    }\n",
       "\n",
       "    .dataframe tbody tr th {\n",
       "        vertical-align: top;\n",
       "    }\n",
       "\n",
       "    .dataframe thead th {\n",
       "        text-align: right;\n",
       "    }\n",
       "</style>\n",
       "<table border=\"1\" class=\"dataframe\">\n",
       "  <thead>\n",
       "    <tr style=\"text-align: right;\">\n",
       "      <th></th>\n",
       "      <th>Year</th>\n",
       "      <th>Prison name</th>\n",
       "      <th>Country</th>\n",
       "      <th>Succeeded</th>\n",
       "    </tr>\n",
       "  </thead>\n",
       "  <tbody>\n",
       "    <tr>\n",
       "      <th>0</th>\n",
       "      <td>1971</td>\n",
       "      <td>Santa Martha Acatitla</td>\n",
       "      <td>Mexico</td>\n",
       "      <td>Yes</td>\n",
       "    </tr>\n",
       "    <tr>\n",
       "      <th>1</th>\n",
       "      <td>1973</td>\n",
       "      <td>Mountjoy Jail</td>\n",
       "      <td>Ireland</td>\n",
       "      <td>Yes</td>\n",
       "    </tr>\n",
       "  </tbody>\n",
       "</table>\n",
       "</div>"
      ],
      "text/plain": [
       "   Year            Prison name  Country Succeeded\n",
       "0  1971  Santa Martha Acatitla   Mexico       Yes\n",
       "1  1973          Mountjoy Jail  Ireland       Yes"
      ]
     },
     "execution_count": 8,
     "metadata": {},
     "output_type": "execute_result"
    }
   ],
   "source": [
    "new_data[\"Date\"] = new_data[\"Date\"].str[-4:]\n",
    "new_data.rename(columns = {\"Date\": \"Year\"}, inplace = True)\n",
    "new_data.head(2)"
   ]
  },
  {
   "cell_type": "markdown",
   "metadata": {},
   "source": [
    "### 5. Computing and Visualizing the Number of Attempts Per Year"
   ]
  },
  {
   "cell_type": "code",
   "execution_count": 9,
   "metadata": {},
   "outputs": [
    {
     "name": "stdout",
     "output_type": "stream",
     "text": [
      "min 1971\n",
      "max 2020\n"
     ]
    }
   ],
   "source": [
    "# Getting the range of the years\n",
    "print(\"min\", min(new_data[\"Year\"]))\n",
    "print(\"max\", max(new_data[\"Year\"]))"
   ]
  },
  {
   "cell_type": "code",
   "execution_count": 10,
   "metadata": {},
   "outputs": [
    {
     "data": {
      "text/html": [
       "<div>\n",
       "<style scoped>\n",
       "    .dataframe tbody tr th:only-of-type {\n",
       "        vertical-align: middle;\n",
       "    }\n",
       "\n",
       "    .dataframe tbody tr th {\n",
       "        vertical-align: top;\n",
       "    }\n",
       "\n",
       "    .dataframe thead th {\n",
       "        text-align: right;\n",
       "    }\n",
       "</style>\n",
       "<table border=\"1\" class=\"dataframe\">\n",
       "  <thead>\n",
       "    <tr style=\"text-align: right;\">\n",
       "      <th></th>\n",
       "      <th>Number of Attempts</th>\n",
       "    </tr>\n",
       "    <tr>\n",
       "      <th>Year</th>\n",
       "      <th></th>\n",
       "    </tr>\n",
       "  </thead>\n",
       "  <tbody>\n",
       "    <tr>\n",
       "      <th>1971</th>\n",
       "      <td>1</td>\n",
       "    </tr>\n",
       "    <tr>\n",
       "      <th>1973</th>\n",
       "      <td>1</td>\n",
       "    </tr>\n",
       "    <tr>\n",
       "      <th>1978</th>\n",
       "      <td>1</td>\n",
       "    </tr>\n",
       "    <tr>\n",
       "      <th>1981</th>\n",
       "      <td>2</td>\n",
       "    </tr>\n",
       "    <tr>\n",
       "      <th>1983</th>\n",
       "      <td>1</td>\n",
       "    </tr>\n",
       "  </tbody>\n",
       "</table>\n",
       "</div>"
      ],
      "text/plain": [
       "      Number of Attempts\n",
       "Year                    \n",
       "1971                   1\n",
       "1973                   1\n",
       "1978                   1\n",
       "1981                   2\n",
       "1983                   1"
      ]
     },
     "execution_count": 10,
     "metadata": {},
     "output_type": "execute_result"
    }
   ],
   "source": [
    "# Getting a pivot_table for the counts\n",
    "year_counts = new_data.pivot_table(values = \"Country\", index = \"Year\", aggfunc = \"count\")\n",
    "# Renaming the \"counts\" column \n",
    "year_counts.columns = [\"Number of Attempts\"]\n",
    "# Simple sorting\n",
    "year_counts.sort_index(ascending = True)\n",
    "\n",
    "# Just checking\n",
    "year_counts.head()\n",
    " "
   ]
  },
  {
   "cell_type": "markdown",
   "metadata": {},
   "source": [
    "As can be seen above, some years are missing from the dataframe. That is because those years had zero attempts. Next, I will be adding those years to the dataframe, so that the visualization isn't misleading or confusing. "
   ]
  },
  {
   "cell_type": "code",
   "execution_count": 11,
   "metadata": {},
   "outputs": [
    {
     "data": {
      "text/plain": [
       "50"
      ]
     },
     "execution_count": 11,
     "metadata": {},
     "output_type": "execute_result"
    }
   ],
   "source": [
    "for year_ in range(1971, 2021):\n",
    "    year = str(year_)           # Because the Year column is string, not integer (for comparison)\n",
    "    if year not in year_counts.index:    # If the year is missing from the pivot table\n",
    "        year_counts.loc[year] = 0        \n",
    "year_counts.sort_index(ascending = True, inplace = True)\n",
    "\n",
    "len(year_counts) # This is for confirmation, the length should be 50 (for 50 years)"
   ]
  },
  {
   "cell_type": "code",
   "execution_count": 12,
   "metadata": {},
   "outputs": [
    {
     "data": {
      "text/html": [
       "<div>\n",
       "<style scoped>\n",
       "    .dataframe tbody tr th:only-of-type {\n",
       "        vertical-align: middle;\n",
       "    }\n",
       "\n",
       "    .dataframe tbody tr th {\n",
       "        vertical-align: top;\n",
       "    }\n",
       "\n",
       "    .dataframe thead th {\n",
       "        text-align: right;\n",
       "    }\n",
       "</style>\n",
       "<table border=\"1\" class=\"dataframe\">\n",
       "  <thead>\n",
       "    <tr style=\"text-align: right;\">\n",
       "      <th></th>\n",
       "      <th>Number of Attempts</th>\n",
       "    </tr>\n",
       "    <tr>\n",
       "      <th>Year</th>\n",
       "      <th></th>\n",
       "    </tr>\n",
       "  </thead>\n",
       "  <tbody>\n",
       "    <tr>\n",
       "      <th>2016</th>\n",
       "      <td>1</td>\n",
       "    </tr>\n",
       "    <tr>\n",
       "      <th>2017</th>\n",
       "      <td>0</td>\n",
       "    </tr>\n",
       "    <tr>\n",
       "      <th>2018</th>\n",
       "      <td>1</td>\n",
       "    </tr>\n",
       "    <tr>\n",
       "      <th>2019</th>\n",
       "      <td>0</td>\n",
       "    </tr>\n",
       "    <tr>\n",
       "      <th>2020</th>\n",
       "      <td>1</td>\n",
       "    </tr>\n",
       "  </tbody>\n",
       "</table>\n",
       "</div>"
      ],
      "text/plain": [
       "      Number of Attempts\n",
       "Year                    \n",
       "2016                   1\n",
       "2017                   0\n",
       "2018                   1\n",
       "2019                   0\n",
       "2020                   1"
      ]
     },
     "execution_count": 12,
     "metadata": {},
     "output_type": "execute_result"
    }
   ],
   "source": [
    "year_counts.tail()"
   ]
  },
  {
   "cell_type": "code",
   "execution_count": 18,
   "metadata": {},
   "outputs": [],
   "source": [
    "def barplott(pivot_table_with_1_column):\n",
    "    data = pivot_table_with_1_column\n",
    "    ya = data.index\n",
    "    d = {ya[n]:int(data.loc[ya[n]]) for n in range(0,len(data))}\n",
    "    plt.figure(figsize=(9,15))\n",
    "\n",
    "    axes = plt.axes()\n",
    "    axes.get_xaxis().set_visible(False)\n",
    "\n",
    "    spines = axes.spines\n",
    "    spines['top'].set_visible(False)\n",
    "    spines['right'].set_visible(False)\n",
    "    spines['bottom'].set_visible(False)\n",
    "    spines['left'].set_visible(False)\n",
    "    ax = plt.barh(*zip(*d.items()), height=.5)\n",
    "    plt.yticks(list(d.keys()), list(d.keys()))\n",
    "    plt.xticks(range(4), range(4))\n",
    "    rectangles = ax.patches\n",
    "    for rectangle in rectangles:\n",
    "        x_value = rectangle.get_width()\n",
    "        y_value = rectangle.get_y() + rectangle.get_height() / 2\n",
    "        space = 5\n",
    "        ha = 'left'\n",
    "        label = \"{}\".format(x_value)\n",
    "        if x_value > 0:\n",
    "            plt.annotate(\n",
    "                label,\n",
    "                (x_value, y_value),\n",
    "                xytext=(space, 0),\n",
    "                textcoords=\"offset points\",\n",
    "                va='center',\n",
    "                ha=ha)\n",
    "\n",
    "    axes.tick_params(tick1On=False)\n",
    "    plt.title(\"Number of Attempted Helicopter Prison Breaks by Year\")\n",
    "    plt.show()\n",
    "    barplott(year_counts)\n",
    "    print(barplott(year_counts))\n",
    "    "
   ]
  },
  {
   "cell_type": "code",
   "execution_count": 13,
   "metadata": {},
   "outputs": [],
   "source": []
  },
  {
   "cell_type": "code",
   "execution_count": 14,
   "metadata": {},
   "outputs": [
    {
     "data": {
      "image/png": "[encoded data removed]",
      "text/plain": [
       "<Figure size 900x1500 with 1 Axes>"
      ]
     },
     "metadata": {},
     "output_type": "display_data"
    }
   ],
   "source": [
    "barplott(year_counts) # You can view the details of this function in the last code cell "
   ]
  },
  {
   "cell_type": "markdown",
   "metadata": {},
   "source": [
    "From the barplot above, we can see that the most attempts at breaking out of prison with helicopters occured in 1986, 2001, 2007 and 2009."
   ]
  },
  {
   "cell_type": "markdown",
   "metadata": {},
   "source": [
    "### 6. Determining Which Country had the Most Number of Attempted Helicopter Prison Breaks"
   ]
  },
  {
   "cell_type": "code",
   "execution_count": 15,
   "metadata": {
    "scrolled": true
   },
   "outputs": [
    {
     "data": {
      "text/html": [
       "<div>\n",
       "<style scoped>\n",
       "    .dataframe tbody tr th:only-of-type {\n",
       "        vertical-align: middle;\n",
       "    }\n",
       "\n",
       "    .dataframe tbody tr th {\n",
       "        vertical-align: top;\n",
       "    }\n",
       "\n",
       "    .dataframe thead th {\n",
       "        text-align: right;\n",
       "    }\n",
       "</style>\n",
       "<table border=\"1\" class=\"dataframe\">\n",
       "  <thead>\n",
       "    <tr style=\"text-align: right;\">\n",
       "      <th></th>\n",
       "      <th>Year</th>\n",
       "      <th>Prison name</th>\n",
       "      <th>Country</th>\n",
       "      <th>Succeeded</th>\n",
       "    </tr>\n",
       "  </thead>\n",
       "  <tbody>\n",
       "    <tr>\n",
       "      <th>0</th>\n",
       "      <td>1971</td>\n",
       "      <td>Santa Martha Acatitla</td>\n",
       "      <td>Mexico</td>\n",
       "      <td>Yes</td>\n",
       "    </tr>\n",
       "    <tr>\n",
       "      <th>1</th>\n",
       "      <td>1973</td>\n",
       "      <td>Mountjoy Jail</td>\n",
       "      <td>Ireland</td>\n",
       "      <td>Yes</td>\n",
       "    </tr>\n",
       "    <tr>\n",
       "      <th>2</th>\n",
       "      <td>1978</td>\n",
       "      <td>United States Penitentiary, Marion</td>\n",
       "      <td>United States</td>\n",
       "      <td>No</td>\n",
       "    </tr>\n",
       "    <tr>\n",
       "      <th>3</th>\n",
       "      <td>1981</td>\n",
       "      <td>Fleury-Mérogis, Essonne, Ile de France</td>\n",
       "      <td>France</td>\n",
       "      <td>Yes</td>\n",
       "    </tr>\n",
       "    <tr>\n",
       "      <th>4</th>\n",
       "      <td>1981</td>\n",
       "      <td>Orsainville Prison, Quebec City</td>\n",
       "      <td>Canada</td>\n",
       "      <td>No</td>\n",
       "    </tr>\n",
       "  </tbody>\n",
       "</table>\n",
       "</div>"
      ],
      "text/plain": [
       "   Year                             Prison name        Country Succeeded\n",
       "0  1971                   Santa Martha Acatitla         Mexico       Yes\n",
       "1  1973                           Mountjoy Jail        Ireland       Yes\n",
       "2  1978      United States Penitentiary, Marion  United States        No\n",
       "3  1981  Fleury-Mérogis, Essonne, Ile de France         France       Yes\n",
       "4  1981         Orsainville Prison, Quebec City         Canada        No"
      ]
     },
     "execution_count": 15,
     "metadata": {},
     "output_type": "execute_result"
    }
   ],
   "source": [
    "# new_data is the cleaned dataset from step 4\n",
    "new_data.head()"
   ]
  },
  {
   "cell_type": "code",
   "execution_count": 16,
   "metadata": {},
   "outputs": [
    {
     "data": {
      "text/html": [
       "<div>\n",
       "<style scoped>\n",
       "    .dataframe tbody tr th:only-of-type {\n",
       "        vertical-align: middle;\n",
       "    }\n",
       "\n",
       "    .dataframe tbody tr th {\n",
       "        vertical-align: top;\n",
       "    }\n",
       "\n",
       "    .dataframe thead th {\n",
       "        text-align: right;\n",
       "    }\n",
       "</style>\n",
       "<table border=\"1\" class=\"dataframe\">\n",
       "  <thead>\n",
       "    <tr style=\"text-align: right;\">\n",
       "      <th></th>\n",
       "      <th>Number of Attempts</th>\n",
       "    </tr>\n",
       "    <tr>\n",
       "      <th>Country</th>\n",
       "      <th></th>\n",
       "    </tr>\n",
       "  </thead>\n",
       "  <tbody>\n",
       "    <tr>\n",
       "      <th>France</th>\n",
       "      <td>15</td>\n",
       "    </tr>\n",
       "    <tr>\n",
       "      <th>United States</th>\n",
       "      <td>8</td>\n",
       "    </tr>\n",
       "    <tr>\n",
       "      <th>Belgium</th>\n",
       "      <td>4</td>\n",
       "    </tr>\n",
       "    <tr>\n",
       "      <th>Canada</th>\n",
       "      <td>4</td>\n",
       "    </tr>\n",
       "    <tr>\n",
       "      <th>Greece</th>\n",
       "      <td>4</td>\n",
       "    </tr>\n",
       "    <tr>\n",
       "      <th>Australia</th>\n",
       "      <td>2</td>\n",
       "    </tr>\n",
       "    <tr>\n",
       "      <th>Brazil</th>\n",
       "      <td>2</td>\n",
       "    </tr>\n",
       "    <tr>\n",
       "      <th>United Kingdom</th>\n",
       "      <td>2</td>\n",
       "    </tr>\n",
       "    <tr>\n",
       "      <th>Chile</th>\n",
       "      <td>1</td>\n",
       "    </tr>\n",
       "    <tr>\n",
       "      <th>Ireland</th>\n",
       "      <td>1</td>\n",
       "    </tr>\n",
       "    <tr>\n",
       "      <th>Italy</th>\n",
       "      <td>1</td>\n",
       "    </tr>\n",
       "    <tr>\n",
       "      <th>Mexico</th>\n",
       "      <td>1</td>\n",
       "    </tr>\n",
       "    <tr>\n",
       "      <th>Netherlands</th>\n",
       "      <td>1</td>\n",
       "    </tr>\n",
       "    <tr>\n",
       "      <th>Puerto Rico</th>\n",
       "      <td>1</td>\n",
       "    </tr>\n",
       "    <tr>\n",
       "      <th>Russia</th>\n",
       "      <td>1</td>\n",
       "    </tr>\n",
       "  </tbody>\n",
       "</table>\n",
       "</div>"
      ],
      "text/plain": [
       "                Number of Attempts\n",
       "Country                           \n",
       "France                          15\n",
       "United States                    8\n",
       "Belgium                          4\n",
       "Canada                           4\n",
       "Greece                           4\n",
       "Australia                        2\n",
       "Brazil                           2\n",
       "United Kingdom                   2\n",
       "Chile                            1\n",
       "Ireland                          1\n",
       "Italy                            1\n",
       "Mexico                           1\n",
       "Netherlands                      1\n",
       "Puerto Rico                      1\n",
       "Russia                           1"
      ]
     },
     "execution_count": 16,
     "metadata": {},
     "output_type": "execute_result"
    }
   ],
   "source": [
    "country_count =new_data.pivot_table(values = \"Year\", index =\"Country\", aggfunc =\"count\")\n",
    "country_count.sort_values(by = \"Year\", inplace = True, ascending = False)\n",
    "country_count.columns = [\"Number of Attempts\"]\n",
    "country_count"
   ]
  },
  {
   "cell_type": "code",
   "execution_count": 17,
   "metadata": {},
   "outputs": [],
   "source": []
  },
  {
   "cell_type": "code",
   "execution_count": 18,
   "metadata": {},
   "outputs": [
    {
     "data": {
      "image/png": "[encoded data removed]",
      "text/plain": [
       "<Figure size 600x400 with 1 Axes>"
      ]
     },
     "metadata": {},
     "output_type": "display_data"
    }
   ],
   "source": [
    "barplott2(country_count) # You can view the details of this function in the last code cell "
   ]
  },
  {
   "cell_type": "markdown",
   "metadata": {},
   "source": [
    "The barplot above shows that France had the most attempted helicopter prison breaks (15) between 1971 and 2020. The US had the seond highest number of attempted prison breaks (8), while the rest of the countries had 4 or less attempted helicopter prison breaks in the 50-year period."
   ]
  },
  {
   "cell_type": "markdown",
   "metadata": {},
   "source": [
    "### 7.1  Extra - Determining the Percentage of Successful Helicopter Prison Breaks\n",
    "Note: Successful here means that the escapees were able to leave the prison with the helicopter."
   ]
  },
  {
   "cell_type": "code",
   "execution_count": 19,
   "metadata": {},
   "outputs": [
    {
     "data": {
      "text/html": [
       "<div>\n",
       "<style scoped>\n",
       "    .dataframe tbody tr th:only-of-type {\n",
       "        vertical-align: middle;\n",
       "    }\n",
       "\n",
       "    .dataframe tbody tr th {\n",
       "        vertical-align: top;\n",
       "    }\n",
       "\n",
       "    .dataframe thead th {\n",
       "        text-align: right;\n",
       "    }\n",
       "</style>\n",
       "<table border=\"1\" class=\"dataframe\">\n",
       "  <thead>\n",
       "    <tr style=\"text-align: right;\">\n",
       "      <th></th>\n",
       "      <th>Counts</th>\n",
       "    </tr>\n",
       "    <tr>\n",
       "      <th>Succeeded</th>\n",
       "      <th></th>\n",
       "    </tr>\n",
       "  </thead>\n",
       "  <tbody>\n",
       "    <tr>\n",
       "      <th>Yes</th>\n",
       "      <td>34</td>\n",
       "    </tr>\n",
       "    <tr>\n",
       "      <th>No</th>\n",
       "      <td>14</td>\n",
       "    </tr>\n",
       "  </tbody>\n",
       "</table>\n",
       "</div>"
      ],
      "text/plain": [
       "           Counts\n",
       "Succeeded        \n",
       "Yes            34\n",
       "No             14"
      ]
     },
     "execution_count": 19,
     "metadata": {},
     "output_type": "execute_result"
    }
   ],
   "source": [
    "# Counting successful and failed attempts\n",
    "success_count = new_data.pivot_table(index =\"Succeeded\", values = \"Country\", aggfunc = \"count\")\n",
    "# Adding column names and sorting\n",
    "success_count.columns = [\"Counts\"]\n",
    "success_count.sort_index(inplace = True, ascending = False)\n",
    "success_count"
   ]
  },
  {
   "cell_type": "code",
   "execution_count": 20,
   "metadata": {
    "scrolled": false
   },
   "outputs": [
    {
     "data": {
      "text/plain": [
       "Text(0.5, 1.0, 'Percentages of Successful and Unsuccessful Helicopter Prison Breaks')"
      ]
     },
     "execution_count": 20,
     "metadata": {},
     "output_type": "execute_result"
    },
    {
     "data": {
      "image/png": "[encoded data removed]",
      "text/plain": [
       "<Figure size 600x400 with 1 Axes>"
      ]
     },
     "metadata": {},
     "output_type": "display_data"
    }
   ],
   "source": [
    "plt.pie(data =success_count, x =\"Counts\", labels = (\"Succeeded\", \"Did not succeed\"), autopct='%1.f%%')\n",
    "plt.title(\"Percentages of Successful and Unsuccessful Helicopter Prison Breaks\")"
   ]
  },
  {
   "cell_type": "markdown",
   "metadata": {},
   "source": [
    "As can be seen in the chart above, 71% (34) of the helicopter prison breaks were successful and the prisoners were able to escape with the helicopter, while 29% were unsuccessful. "
   ]
  },
  {
   "cell_type": "markdown",
   "metadata": {},
   "source": [
    "### 7. 2 Extra - Determining the Percentage of \"Successful\" Escapees Who Have Not Been Recaptured\n",
    "\n",
    "Here, we'll be computing how many of the \"successful\" prison breaks have been able to avoid recapture so far. "
   ]
  },
  {
   "cell_type": "code",
   "execution_count": 21,
   "metadata": {
    "scrolled": true
   },
   "outputs": [
    {
     "data": {
      "text/html": [
       "<div>\n",
       "<style scoped>\n",
       "    .dataframe tbody tr th:only-of-type {\n",
       "        vertical-align: middle;\n",
       "    }\n",
       "\n",
       "    .dataframe tbody tr th {\n",
       "        vertical-align: top;\n",
       "    }\n",
       "\n",
       "    .dataframe thead th {\n",
       "        text-align: right;\n",
       "    }\n",
       "</style>\n",
       "<table border=\"1\" class=\"dataframe\">\n",
       "  <thead>\n",
       "    <tr style=\"text-align: right;\">\n",
       "      <th></th>\n",
       "      <th>Date</th>\n",
       "      <th>Prison name</th>\n",
       "      <th>Country</th>\n",
       "      <th>Succeeded</th>\n",
       "      <th>Escapee(s)</th>\n",
       "      <th>Details</th>\n",
       "    </tr>\n",
       "  </thead>\n",
       "  <tbody>\n",
       "    <tr>\n",
       "      <th>0</th>\n",
       "      <td>August 19, 1971</td>\n",
       "      <td>Santa Martha Acatitla</td>\n",
       "      <td>Mexico</td>\n",
       "      <td>Yes</td>\n",
       "      <td>Joel David Kaplan Carlos Antonio Contreras Castro</td>\n",
       "      <td>Joel David Kaplan was a New York businessman w...</td>\n",
       "    </tr>\n",
       "    <tr>\n",
       "      <th>1</th>\n",
       "      <td>October 31, 1973</td>\n",
       "      <td>Mountjoy Jail</td>\n",
       "      <td>Ireland</td>\n",
       "      <td>Yes</td>\n",
       "      <td>JB O'Hagan Seamus TwomeyKevin Mallon</td>\n",
       "      <td>On October 31, 1973 an IRA member hijacked a h...</td>\n",
       "    </tr>\n",
       "    <tr>\n",
       "      <th>3</th>\n",
       "      <td>February 27, 1981</td>\n",
       "      <td>Fleury-Mérogis, Essonne, Ile de France</td>\n",
       "      <td>France</td>\n",
       "      <td>Yes</td>\n",
       "      <td>Gérard DupréDaniel Beaumont</td>\n",
       "      <td>With the help of Serge Coutel, Gérard Dupré an...</td>\n",
       "    </tr>\n",
       "    <tr>\n",
       "      <th>6</th>\n",
       "      <td>December 19, 1985</td>\n",
       "      <td>Perry Correctional Institution, Pelzer, South ...</td>\n",
       "      <td>United States</td>\n",
       "      <td>Yes</td>\n",
       "      <td>James Rodney LeonardWilliam Douglas BallewJess...</td>\n",
       "      <td>One murderer, James Rodney Leonard, and two ar...</td>\n",
       "    </tr>\n",
       "    <tr>\n",
       "      <th>7</th>\n",
       "      <td>December 31, 1985</td>\n",
       "      <td>Cândido Mendes penitentiary, Ilha Grande, Rio ...</td>\n",
       "      <td>Brazil</td>\n",
       "      <td>Yes</td>\n",
       "      <td>José Carlos dos Reis Encina, a.k.a. \"Escadinha\"</td>\n",
       "      <td>Drug lord Encina was rescued by José Carlos Gr...</td>\n",
       "    </tr>\n",
       "  </tbody>\n",
       "</table>\n",
       "</div>"
      ],
      "text/plain": [
       "                Date                                        Prison name  \\\n",
       "0    August 19, 1971                              Santa Martha Acatitla   \n",
       "1   October 31, 1973                                      Mountjoy Jail   \n",
       "3  February 27, 1981             Fleury-Mérogis, Essonne, Ile de France   \n",
       "6  December 19, 1985  Perry Correctional Institution, Pelzer, South ...   \n",
       "7  December 31, 1985  Cândido Mendes penitentiary, Ilha Grande, Rio ...   \n",
       "\n",
       "         Country Succeeded                                         Escapee(s)  \\\n",
       "0         Mexico       Yes  Joel David Kaplan Carlos Antonio Contreras Castro   \n",
       "1        Ireland       Yes               JB O'Hagan Seamus TwomeyKevin Mallon   \n",
       "3         France       Yes                        Gérard DupréDaniel Beaumont   \n",
       "6  United States       Yes  James Rodney LeonardWilliam Douglas BallewJess...   \n",
       "7         Brazil       Yes    José Carlos dos Reis Encina, a.k.a. \"Escadinha\"   \n",
       "\n",
       "                                             Details  \n",
       "0  Joel David Kaplan was a New York businessman w...  \n",
       "1  On October 31, 1973 an IRA member hijacked a h...  \n",
       "3  With the help of Serge Coutel, Gérard Dupré an...  \n",
       "6  One murderer, James Rodney Leonard, and two ar...  \n",
       "7  Drug lord Encina was rescued by José Carlos Gr...  "
      ]
     },
     "execution_count": 21,
     "metadata": {},
     "output_type": "execute_result"
    }
   ],
   "source": [
    "# Selecting the successful prison breaks\n",
    "Success =data[data[\"Succeeded\"] == \"Yes\"]\n",
    "Successes = Success.copy()\n",
    "Successes.head()"
   ]
  },
  {
   "cell_type": "code",
   "execution_count": 22,
   "metadata": {},
   "outputs": [],
   "source": [
    "pd.set_option('display.max_colwidth', None) # This is to remove the column limit so that we can see all the characters in a column\n"
   ]
  },
  {
   "cell_type": "markdown",
   "metadata": {},
   "source": [
    "To determine which of the escapees have been able to evade arrest so far, I had to look at the Details column and do some more research online.\n",
    "\n",
    "[This](https://france3-regions.francetvinfo.fr/provence-alpes-cote-d-azur/2013/11/02/evasion-de-la-prison-de-draguignan-en-2001-un-des-organisateurs-supposes-arrete-350177.html), [this](https://jnews-france.fr/ces-mysteres-qui-entourent-le-caid-toulonnais-franck-perletto-interpelle-la-semaine-derniere/) and [this](https://apnews.com/article/d9df3592a19041822a3c4055f9536505) are some of the news articles I used to confirm whether an escapee had been recaptured or not. "
   ]
  },
  {
   "cell_type": "code",
   "execution_count": 23,
   "metadata": {
    "scrolled": true
   },
   "outputs": [
    {
     "data": {
      "text/html": [
       "<div>\n",
       "<style scoped>\n",
       "    .dataframe tbody tr th:only-of-type {\n",
       "        vertical-align: middle;\n",
       "    }\n",
       "\n",
       "    .dataframe tbody tr th {\n",
       "        vertical-align: top;\n",
       "    }\n",
       "\n",
       "    .dataframe thead th {\n",
       "        text-align: right;\n",
       "    }\n",
       "</style>\n",
       "<table border=\"1\" class=\"dataframe\">\n",
       "  <thead>\n",
       "    <tr style=\"text-align: right;\">\n",
       "      <th></th>\n",
       "      <th>index</th>\n",
       "      <th>Date</th>\n",
       "      <th>Prison name</th>\n",
       "      <th>Country</th>\n",
       "      <th>Succeeded</th>\n",
       "      <th>Escapee(s)</th>\n",
       "      <th>Details</th>\n",
       "      <th>Evade Arrest</th>\n",
       "    </tr>\n",
       "  </thead>\n",
       "  <tbody>\n",
       "    <tr>\n",
       "      <th>0</th>\n",
       "      <td>0</td>\n",
       "      <td>August 19, 1971</td>\n",
       "      <td>Santa Martha Acatitla</td>\n",
       "      <td>Mexico</td>\n",
       "      <td>Yes</td>\n",
       "      <td>Joel David Kaplan Carlos Antonio Contreras Castro</td>\n",
       "      <td>Joel David Kaplan was a New York businessman who had been arrested for murder in 1962 in Mexico City and was incarcerated at the Santa Martha Acatitla prison in the Iztapalapa borough of Mexico City. Joel's sister, Judy Kaplan, arranged the means to help Kaplan escape, and on August 19, 1971, a helicopter landed in the prison yard. The guards mistakenly thought this was an official visit. In two minutes, Kaplan and his cellmate Carlos Antonio Contreras, a Venezuelan counterfeiter, were able to board the craft and were piloted away, before any shots were fired.[9] Both men were flown to Texas and then different planes flew Kaplan to California and Castro to Guatemala.[3] The Mexican government never initiated extradition proceedings against Kaplan.[9] The escape is told in a book, The 10-Second Jailbreak: The Helicopter Escape of Joel David Kaplan.[4] It also inspired the 1975 action movie Breakout, which starred Charles Bronson and Robert Duvall.[9]</td>\n",
       "      <td>Yes</td>\n",
       "    </tr>\n",
       "    <tr>\n",
       "      <th>1</th>\n",
       "      <td>1</td>\n",
       "      <td>October 31, 1973</td>\n",
       "      <td>Mountjoy Jail</td>\n",
       "      <td>Ireland</td>\n",
       "      <td>Yes</td>\n",
       "      <td>JB O'Hagan Seamus TwomeyKevin Mallon</td>\n",
       "      <td>On October 31, 1973 an IRA member hijacked a helicopter and forced the pilot to land in the exercise yard of Dublin's Mountjoy Jail's D Wing at 3:40 p.m., October 31, 1973. Three members of the IRA were able to escape: JB O'Hagan, Seamus Twomey and Kevin Mallon. Another prisoner who also was in the prison was quoted as saying, \"One shamefaced screw apologised to the governor and said he thought it was the new Minister for Defence (Paddy Donegan) arriving. I told him it was our Minister of Defence leaving.\" The Mountjoy helicopter escape became Republican lore and was immortalized by \"The Helicopter Song\", which contains the lines \"It's up like a bird and over the city. There's three men a'missing I heard the warder say\".[1]</td>\n",
       "      <td>No</td>\n",
       "    </tr>\n",
       "    <tr>\n",
       "      <th>2</th>\n",
       "      <td>3</td>\n",
       "      <td>February 27, 1981</td>\n",
       "      <td>Fleury-Mérogis, Essonne, Ile de France</td>\n",
       "      <td>France</td>\n",
       "      <td>Yes</td>\n",
       "      <td>Gérard DupréDaniel Beaumont</td>\n",
       "      <td>With the help of Serge Coutel, Gérard Dupré and Daniel Beaumont, succeed in the first and double helicopter escape of a French prison, in Fleury-Mérogis (Essonne), the best kept prison of France. The men hijacked a helicopter and its pilot that they rented to fly from Paris to Orléans. The pilot, Claude Fourcade, was taken hostage and was told that they were holding his wife and daughter hostage (which was not true) ... The flight turned into Paris - Fleury -Merogis - Porte d'Orléans.[11]</td>\n",
       "      <td>No</td>\n",
       "    </tr>\n",
       "  </tbody>\n",
       "</table>\n",
       "</div>"
      ],
      "text/plain": [
       "   index               Date                             Prison name  Country  \\\n",
       "0      0    August 19, 1971                   Santa Martha Acatitla   Mexico   \n",
       "1      1   October 31, 1973                           Mountjoy Jail  Ireland   \n",
       "2      3  February 27, 1981  Fleury-Mérogis, Essonne, Ile de France   France   \n",
       "\n",
       "  Succeeded                                         Escapee(s)  \\\n",
       "0       Yes  Joel David Kaplan Carlos Antonio Contreras Castro   \n",
       "1       Yes               JB O'Hagan Seamus TwomeyKevin Mallon   \n",
       "2       Yes                        Gérard DupréDaniel Beaumont   \n",
       "\n",
       "                                                                                                                                                                                                                                                                                                                                                                                                                                                                                                                                                                                                                                                                                                                                                                                                                                                                                                                                                                                               Details  \\\n",
       "0  Joel David Kaplan was a New York businessman who had been arrested for murder in 1962 in Mexico City and was incarcerated at the Santa Martha Acatitla prison in the Iztapalapa borough of Mexico City. Joel's sister, Judy Kaplan, arranged the means to help Kaplan escape, and on August 19, 1971, a helicopter landed in the prison yard. The guards mistakenly thought this was an official visit. In two minutes, Kaplan and his cellmate Carlos Antonio Contreras, a Venezuelan counterfeiter, were able to board the craft and were piloted away, before any shots were fired.[9] Both men were flown to Texas and then different planes flew Kaplan to California and Castro to Guatemala.[3] The Mexican government never initiated extradition proceedings against Kaplan.[9] The escape is told in a book, The 10-Second Jailbreak: The Helicopter Escape of Joel David Kaplan.[4] It also inspired the 1975 action movie Breakout, which starred Charles Bronson and Robert Duvall.[9]   \n",
       "1                                                                                                                                                                                                                                        On October 31, 1973 an IRA member hijacked a helicopter and forced the pilot to land in the exercise yard of Dublin's Mountjoy Jail's D Wing at 3:40 p.m., October 31, 1973. Three members of the IRA were able to escape: JB O'Hagan, Seamus Twomey and Kevin Mallon. Another prisoner who also was in the prison was quoted as saying, \"One shamefaced screw apologised to the governor and said he thought it was the new Minister for Defence (Paddy Donegan) arriving. I told him it was our Minister of Defence leaving.\" The Mountjoy helicopter escape became Republican lore and was immortalized by \"The Helicopter Song\", which contains the lines \"It's up like a bird and over the city. There's three men a'missing I heard the warder say\".[1]   \n",
       "2                                                                                                                                                                                                                                                                                                                                                                                                                                                                                        With the help of Serge Coutel, Gérard Dupré and Daniel Beaumont, succeed in the first and double helicopter escape of a French prison, in Fleury-Mérogis (Essonne), the best kept prison of France. The men hijacked a helicopter and its pilot that they rented to fly from Paris to Orléans. The pilot, Claude Fourcade, was taken hostage and was told that they were holding his wife and daughter hostage (which was not true) ... The flight turned into Paris - Fleury -Merogis - Porte d'Orléans.[11]   \n",
       "\n",
       "  Evade Arrest  \n",
       "0          Yes  \n",
       "1           No  \n",
       "2           No  "
      ]
     },
     "execution_count": 23,
     "metadata": {},
     "output_type": "execute_result"
    }
   ],
   "source": [
    "Successes.reset_index(inplace = True)\n",
    "# Refer to the Markdown cell above for how I got this data\n",
    "Successes[\"Evade Arrest\"] = pd.Series([\"Yes\", \"No\", \"No\", \"No\", \"No\", \"No\", \"No\", \"No\", \"No\", \"No\", \"No\", \"No\", \"No\",  \"Yes\", \"Yes\", \"No\", \"No\", \"No\", \"Unknown\", \"No\", \"No\", \"No\",  \"No\", \"No\", \"No\", \"No\",\"No\", \"No\", \"No\", \"No\", \"No\", \"No\", \"No\", \"No\"])\n",
    "Successes.head(3)"
   ]
  },
  {
   "cell_type": "code",
   "execution_count": 24,
   "metadata": {},
   "outputs": [
    {
     "data": {
      "text/html": [
       "<div>\n",
       "<style scoped>\n",
       "    .dataframe tbody tr th:only-of-type {\n",
       "        vertical-align: middle;\n",
       "    }\n",
       "\n",
       "    .dataframe tbody tr th {\n",
       "        vertical-align: top;\n",
       "    }\n",
       "\n",
       "    .dataframe thead th {\n",
       "        text-align: right;\n",
       "    }\n",
       "</style>\n",
       "<table border=\"1\" class=\"dataframe\">\n",
       "  <thead>\n",
       "    <tr style=\"text-align: right;\">\n",
       "      <th></th>\n",
       "      <th>Counts</th>\n",
       "    </tr>\n",
       "    <tr>\n",
       "      <th>Evade Arrest</th>\n",
       "      <th></th>\n",
       "    </tr>\n",
       "  </thead>\n",
       "  <tbody>\n",
       "    <tr>\n",
       "      <th>No</th>\n",
       "      <td>30</td>\n",
       "    </tr>\n",
       "    <tr>\n",
       "      <th>Unknown</th>\n",
       "      <td>1</td>\n",
       "    </tr>\n",
       "    <tr>\n",
       "      <th>Yes</th>\n",
       "      <td>3</td>\n",
       "    </tr>\n",
       "  </tbody>\n",
       "</table>\n",
       "</div>"
      ],
      "text/plain": [
       "              Counts\n",
       "Evade Arrest        \n",
       "No                30\n",
       "Unknown            1\n",
       "Yes                3"
      ]
     },
     "execution_count": 24,
     "metadata": {},
     "output_type": "execute_result"
    }
   ],
   "source": [
    "# A simple pivot table (similar to value_counts())\n",
    "evade_count =Successes.pivot_table(values='Date', index='Evade Arrest', aggfunc= \"count\")\n",
    "evade_count.columns = [\"Counts\"]\n",
    "evade_count"
   ]
  },
  {
   "cell_type": "code",
   "execution_count": 25,
   "metadata": {},
   "outputs": [
    {
     "data": {
      "text/plain": [
       "Text(0.5, 1.0, 'Have the Escapees Been Able to Evade Arrest?')"
      ]
     },
     "execution_count": 25,
     "metadata": {},
     "output_type": "execute_result"
    },
    {
     "data": {
      "image/png": "[encoded data removed]",
      "text/plain": [
       "<Figure size 600x400 with 1 Axes>"
      ]
     },
     "metadata": {},
     "output_type": "display_data"
    }
   ],
   "source": [
    "plt.pie(data =evade_count, x =\"Counts\", labels = (\"No\", \"Unknown\", \"Yes\"), autopct='%1.f%%')\n",
    "plt.title(\"Have the Escapees Been Able to Evade Arrest?\")"
   ]
  },
  {
   "cell_type": "markdown",
   "metadata": {},
   "source": [
    "Here, we can see that the escapees in 88% (or 30) of the prison breaks have been recaptured, while 9% (3) have not been arrested. It is **important** to note that of the 3 escapees who haven't been arrested, 1 was a political prisoner, and the charges have been dropped. The whereabouts of another one is known, but the authorities have shown no interest in extraditing him. Thus, **only one** of three escapees is in hiding. His name is Vassilis Palaiokostas, and he escaped from from Athens' Korydallos Prison in 2009. \n",
    "\n",
    "The status of one of the three escapees in the 2001 Draguignan prison break in France, Abdelhamid Carnous, is unknown."
   ]
  },
  {
   "cell_type": "markdown",
   "metadata": {},
   "source": [
    "### 8. Conclusion\n",
    "This project analysed the data of helicopter prison escapes from 1971-2020. It was found that out of a total of 48 attempted helicopter prison escapes, 34 were successful. However, 88% (30) of the \"successful\" escapes were recaptured. France had the highest number of helicopter prison breaks (15), while the US had the second highest number (8).  1986, 2001, 2007 and 2009 were the years with the highest incidents of helicopter escapes (3)."
   ]
  },
  {
   "cell_type": "code",
   "execution_count": 2,
   "metadata": {},
   "outputs": [],
   "source": [
    "# These are the codes for the barplot functions. \n",
    "\n",
    "def barplott(pivot_table_with_1_column):\n",
    "    data = pivot_table_with_1_column\n",
    "    ya = data.index\n",
    "    d = {ya[n]:int(data.loc[ya[n]]) for n in range(0,len(data))}\n",
    "    plt.figure(figsize=(9,15))\n",
    "\n",
    "    axes = plt.axes()\n",
    "    axes.get_xaxis().set_visible(False)\n",
    "\n",
    "    spines = axes.spines\n",
    "    spines['top'].set_visible(False)\n",
    "    spines['right'].set_visible(False)\n",
    "    spines['bottom'].set_visible(False)\n",
    "    spines['left'].set_visible(False)\n",
    "    ax = plt.barh(*zip(*d.items()), height=.5)\n",
    "    plt.yticks(list(d.keys()), list(d.keys()))\n",
    "    plt.xticks(range(4), range(4))\n",
    "    rectangles = ax.patches\n",
    "    for rectangle in rectangles:\n",
    "        x_value = rectangle.get_width()\n",
    "        y_value = rectangle.get_y() + rectangle.get_height() / 2\n",
    "        space = 5\n",
    "        ha = 'left'\n",
    "        label = \"{}\".format(x_value)\n",
    "        if x_value > 0:\n",
    "            plt.annotate(\n",
    "                label,\n",
    "                (x_value, y_value),\n",
    "                xytext=(space, 0),\n",
    "                textcoords=\"offset points\",\n",
    "                va='center',\n",
    "                ha=ha)\n",
    "\n",
    "    axes.tick_params(tick1On=False)\n",
    "    plt.title(\"Number of Attempted Helicopter Prison Breaks by Year\")\n",
    "    plt.show()\n",
    "    \n",
    "    \n",
    "    \n",
    "def barplott2(pivot_table_with_1_column):\n",
    "    data = pivot_table_with_1_column\n",
    "    ya = data.index\n",
    "    d = {ya[n]:int(data.loc[ya[n]]) for n in range(0,len(data))}\n",
    "    plt.figure(figsize=(6,4))\n",
    "    axes = plt.axes()\n",
    "    axes.get_xaxis().set_visible(False)\n",
    "\n",
    "    spines = axes.spines\n",
    "    spines['top'].set_visible(False)\n",
    "    spines['right'].set_visible(False)\n",
    "    spines['bottom'].set_visible(False)\n",
    "    spines['left'].set_visible(False)\n",
    "    ax = plt.barh(*zip(*d.items()), height=.5)\n",
    "    plt.yticks(list(d.keys()), list(d.keys()))\n",
    "    plt.xticks(range(4), range(4))\n",
    "    rectangles = ax.patches\n",
    "    plt.title(\"Number of Attempted Helicopter Prison Breaks by Country\")\n",
    "    for rectangle in rectangles:\n",
    "        x_value = rectangle.get_width()\n",
    "        y_value = rectangle.get_y() + rectangle.get_height() / 2\n",
    "        space = 5\n",
    "        ha = 'left'\n",
    "        label = \"{}\".format(x_value)\n",
    "        if x_value > 0:\n",
    "            plt.annotate(\n",
    "                label,\n",
    "                (x_value, y_value),\n",
    "                xytext=(space, 0),\n",
    "                textcoords=\"offset points\",\n",
    "                va='center',\n",
    "                ha=ha)\n",
    "\n",
    "    axes.tick_params(tick1On=False)\n",
    "    plt.show()"
   ]
  },
  {
   "cell_type": "code",
   "execution_count": null,
   "metadata": {},
   "outputs": [],
   "source": []
  }
 ],
 "metadata": {
  "kernelspec": {
   "display_name": "Python 3 (ipykernel)",
   "language": "python",
   "name": "python3"
  },
  "language_info": {
   "codemirror_mode": {
    "name": "ipython",
    "version": 3
   },
   "file_extension": ".py",
   "mimetype": "text/x-python",
   "name": "python",
   "nbconvert_exporter": "python",
   "pygments_lexer": "ipython3",
   "version": "3.9.12"
  }
 },
 "nbformat": 4,
 "nbformat_minor": 2
}
